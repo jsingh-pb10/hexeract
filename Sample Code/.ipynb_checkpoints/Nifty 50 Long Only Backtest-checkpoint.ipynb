{
 "cells": [
  {
   "cell_type": "code",
   "execution_count": null,
   "id": "likely-expansion",
   "metadata": {},
   "outputs": [],
   "source": [
    "#Backtests cover smoothed moving average and optimized dynamic mode decomposition \n",
    "import bt\n",
    "from pydmd import OptDMD\n",
    "import numpy as np\n",
    "opt_dmd = OptDMD()\n",
    "%run /home/ec2-user/trading/Data/cloud_database_connector.ipynb"
   ]
  },
  {
   "cell_type": "code",
   "execution_count": null,
   "id": "cheap-police",
   "metadata": {},
   "outputs": [],
   "source": [
    "class SelectWhere(bt.Algo):\n",
    "    \n",
    "    \"\"\"\n",
    "    Select securities based on thir indicator data frame \n",
    "    \n",
    "    Selects securities where the value is on the current date\n",
    "    \n",
    "    Args:\n",
    "         * Signal (DataFrame) :  DataFrame containing the signal\n",
    "         \n",
    "         Sets:\n",
    "              * selected\n",
    "    \n",
    "    \"\"\"\n",
    "    \n",
    "    def __init__(self, signal):\n",
    "        self.signal = signal\n",
    " \n",
    "        \n",
    "    def __call__(self, target):\n",
    "    \n",
    "        if target.now in self.signal.index:\n",
    "            sig = self.signal.loc[target.now]\n",
    "\n",
    "            selected = list(sig.index[sig])\n",
    "\n",
    "            target.temp['selected'] = selected\n",
    "\n",
    "        \n",
    "        return True\n",
    "\n",
    "    "
   ]
  },
  {
   "cell_type": "code",
   "execution_count": null,
   "id": "played-terrorism",
   "metadata": {},
   "outputs": [],
   "source": [
    "df = pd.read_csv('/home/ec2-user/trading/Trade/nifty50.csv')\n",
    "cashlist  = []\n",
    "for sym in df.Symbol:\n",
    "        cashlist.append(sym)\n",
    "sym_string = \"\"\n",
    "for sym in cashlist:\n",
    "        sym_string += sym + \" \"\n",
    "sym_string = sym_string.lower()\n",
    "    "
   ]
  },
  {
   "cell_type": "code",
   "execution_count": null,
   "id": "considered-internship",
   "metadata": {},
   "outputs": [],
   "source": [
    "sym_string"
   ]
  },
  {
   "cell_type": "code",
   "execution_count": null,
   "id": "white-method",
   "metadata": {},
   "outputs": [],
   "source": [
    "df = fit(sym_string, rank = -1)"
   ]
  },
  {
   "cell_type": "code",
   "execution_count": null,
   "id": "martial-singles",
   "metadata": {},
   "outputs": [],
   "source": [
    "###### Assign Date Range to Data Frame ######\n",
    "dr = pd.bdate_range(end  = \"2021-04-23\", freq = \"B\", periods = 2547)\n"
   ]
  },
  {
   "cell_type": "code",
   "execution_count": null,
   "id": "narrow-federal",
   "metadata": {},
   "outputs": [],
   "source": [
    "dmd_closelist = []\n",
    "for i in range(len(df.columns.values)):\n",
    "        dmd_closelist.append(df.iloc[:,i].values)\n",
    "opt_dmd.svd_rank = 2\n",
    "opt_dmd.fit(X = np.asarray(dmd_closelist))\n",
    "pr = opt_dmd.predict(dmd_closelist)"
   ]
  },
  {
   "cell_type": "code",
   "execution_count": null,
   "id": "binary-buffer",
   "metadata": {},
   "outputs": [],
   "source": [
    "sma = df.rolling(10).mean()"
   ]
  },
  {
   "cell_type": "code",
   "execution_count": null,
   "id": "persistent-assistant",
   "metadata": {},
   "outputs": [],
   "source": [
    "def above_sma(dat, sma_per=50, start='2011-01-03', name='above_sma'):\n",
    "    \"\"\"\n",
    "    Long securities that are above their n period\n",
    "    Simple Moving Averages with equal weights.\n",
    "    \"\"\"\n",
    "    # download data\n",
    "    data = dat\n",
    "    #print(data.head())\n",
    "    # calc sma\n",
    "    sma = data.rolling(sma_per).mean()\n",
    "\n",
    "    # create strategy\n",
    "    s = bt.Strategy(name, [SelectWhere(data > sma),\n",
    "                           bt.algos.WeighEqually(),\n",
    "                           bt.algos.Rebalance()])\n",
    "\n",
    "    # now we create the backtest\n",
    "    return bt.Backtest(s, data)\n",
    "\n",
    "\n",
    "def nifty_long_only_ew(dat_equity, name='long_only_nifty50'):\n",
    "    s = bt.Strategy(name, [bt.algos.RunOnce(),\n",
    "                           bt.algos.SelectAll(),\n",
    "                           bt.algos.WeighEqually(),\n",
    "                           bt.algos.Rebalance()])\n",
    "    return bt.Backtest(s, dat_equity)\n",
    "\n",
    "# simple backtest to test long-only allocation\n",
    "def long_only_ew(tickers, start='2011-01-03', name='Nifty 50 Index'):\n",
    "    s = bt.Strategy(name, [bt.algos.RunOnce(),\n",
    "                           bt.algos.SelectAll(),\n",
    "                           bt.algos.WeighEqually(),\n",
    "                           bt.algos.Rebalance()])\n",
    "    data = bt.get('^NSEI', start='2011-04-25')\n",
    "    print(data)\n",
    "    return bt.Backtest(s, data)\n",
    "\n",
    "# create the backtests\n",
    "tickers = ('spot_gold spot_silver copper_cme_1 spot_platinum corn_1 cot_1 ice_cocoa_1 ice_sug_1 soybean_oil_1 wheat_hrw_1 wheat_srw_1 ng_nymex_1 crude_wti_nymex_1 crude_brent_ice_1')\n",
    "sma10 = above_sma(df, sma_per=10, name='sma10')\n",
    "sma20 = above_sma(df, sma_per=20, name='sma20')\n",
    "sma40 = above_sma(df, sma_per=40, name='sma40')\n",
    "#benchmark = nifty_long_only_ew(df, name='nifty50')\n",
    "benchmark = long_only_ew(df, name='nifty50')"
   ]
  },
  {
   "cell_type": "code",
   "execution_count": null,
   "id": "wired-respect",
   "metadata": {},
   "outputs": [],
   "source": [
    "import matplotlib.pyplot as plt\n",
    "%matplotlib inline\n",
    "res = bt.run(sma10, sma20, sma40, benchmark)\n",
    "res.plot(freq='m')"
   ]
  },
  {
   "cell_type": "code",
   "execution_count": null,
   "id": "utility-cleveland",
   "metadata": {},
   "outputs": [],
   "source": [
    "def nifty_long_only_ew(dat_equity, name='Nifty 50'):\n",
    "    s = bt.Strategy(name, [bt.algos.RunOnce(),\n",
    "                           bt.algos.SelectAll(),\n",
    "                           bt.algos.WeighEqually(),\n",
    "                           bt.algos.Rebalance()])\n",
    "    return bt.Backtest(s, dat_equity)"
   ]
  },
  {
   "cell_type": "code",
   "execution_count": null,
   "id": "indoor-stations",
   "metadata": {},
   "outputs": [],
   "source": [
    "################ APPLYING DMD #################################\n",
    "from pydmd import OptDMD\n",
    "import numpy as np\n",
    "opt_dmd = OptDMD()\n",
    "def long_dmd(final_df, rank):\n",
    "    dmd_closelist = []\n",
    "    for i in range(len(final_df.columns.values)):\n",
    "        dmd_closelist.append(final_df.iloc[:,i].values)\n",
    "    opt_dmd.svd_rank = rank\n",
    "    opt_dmd.fit(X = np.asarray(dmd_closelist))\n",
    "    pr = opt_dmd.predict(dmd_closelist)\n",
    "    prediction_frame = pd.DataFrame(np.transpose(pr), columns = list(final_df.columns.values), index = final_df.index)\n",
    "    indicator_frame = prediction_frame > final_df\n",
    "    return indicator_frame\n",
    "    \n",
    "def long_short_dmd(final_df, rank = -1):\n",
    "    dmd_closelist = []\n",
    "    for i in range(len(final_df.columns.values)):\n",
    "        dmd_closelist.append(final_df.iloc[:,i].values)\n",
    "    opt_dmd.svd_rank = rank\n",
    "    opt_dmd.fit(X = np.asarray(dmd_closelist))\n",
    "    pr = opt_dmd.predict(dmd_closelist)\n",
    "    prediction_frame = pd.DataFrame(np.transpose(pr), columns = list(final_df.columns.values), index = final_df.index)\n",
    "    indicator_frame_long = prediction_frame > final_df\n",
    "    indicator_frame_short = prediction_frame < final_df\n",
    "    \n",
    "    return indicator_frame\n",
    "    \n"
   ]
  },
  {
   "cell_type": "code",
   "execution_count": null,
   "id": "talented-opera",
   "metadata": {},
   "outputs": [],
   "source": [
    "def my_comm(q, p):\n",
    "    return abs(q)*p*0.0025"
   ]
  },
  {
   "cell_type": "code",
   "execution_count": null,
   "id": "sunrise-audio",
   "metadata": {
    "scrolled": true
   },
   "outputs": [],
   "source": [
    "frame = long_dmd(df, rank = 1)\n",
    "s = bt.Strategy('Nifty 50 Systematic Alpha', [SelectWhere(frame),\n",
    "                        bt.algos.RunAfterDays(days = 4),\n",
    "                               bt.algos.WeighEqually(),\n",
    "                               bt.algos.Rebalance()])\n",
    "\n",
    "comm = lambda q, p: abs(q)*p*0.0030 \n",
    "\n",
    "t = bt.Backtest(s, df,initial_capital=500000.0, integer_positions = True, commissions = comm)\n",
    "\n",
    "res = bt.run(t)"
   ]
  },
  {
   "cell_type": "code",
   "execution_count": null,
   "id": "imposed-homeless",
   "metadata": {},
   "outputs": [],
   "source": [
    "benchmark = long_only_ew(df)"
   ]
  },
  {
   "cell_type": "code",
   "execution_count": null,
   "id": "daily-swaziland",
   "metadata": {},
   "outputs": [],
   "source": [
    "res = bt.run(t,benchmark)"
   ]
  },
  {
   "cell_type": "code",
   "execution_count": null,
   "id": "crucial-happening",
   "metadata": {},
   "outputs": [],
   "source": [
    "import matplotlib.pyplot as plt\n",
    "%matplotlib inline\n",
    "res.plot(freq = 'M')\n",
    "plt.savefig('foo.png')\n",
    "plt.savefig('foo.pdf')"
   ]
  },
  {
   "cell_type": "code",
   "execution_count": null,
   "id": "widespread-smile",
   "metadata": {},
   "outputs": [],
   "source": [
    "res.display()"
   ]
  },
  {
   "cell_type": "code",
   "execution_count": null,
   "id": "stuffed-corps",
   "metadata": {},
   "outputs": [],
   "source": [
    "import matplotlib.pyplot as plt\n",
    "%matplotlib inline\n",
    "res.plot()"
   ]
  },
  {
   "cell_type": "code",
   "execution_count": null,
   "id": "social-student",
   "metadata": {},
   "outputs": [],
   "source": [
    "res.display()"
   ]
  },
  {
   "cell_type": "code",
   "execution_count": null,
   "id": "union-monthly",
   "metadata": {},
   "outputs": [],
   "source": [
    "index = pd.bdate_range(start = '2011/01/03', end = '2021/04/09')"
   ]
  },
  {
   "cell_type": "code",
   "execution_count": null,
   "id": "sporting-ecuador",
   "metadata": {},
   "outputs": [],
   "source": [
    "df.corr()\n",
    "\n",
    "import seaborn as sns\n",
    "import matplotlib.pyplot as plt\n",
    "\n",
    "fig, ax = plt.subplots(figsize=(12,7))\n",
    "sns_plot = sns.heatmap(df.corr(),cmap = \"rocket_r\")\n",
    "sns_plot.figure.savefig(\"output.png\")"
   ]
  }
 ],
 "metadata": {
  "kernelspec": {
   "display_name": "Python 3 (ipykernel)",
   "language": "python",
   "name": "python3"
  },
  "language_info": {
   "codemirror_mode": {
    "name": "ipython",
    "version": 3
   },
   "file_extension": ".py",
   "mimetype": "text/x-python",
   "name": "python",
   "nbconvert_exporter": "python",
   "pygments_lexer": "ipython3",
   "version": "3.9.7"
  }
 },
 "nbformat": 4,
 "nbformat_minor": 5
}

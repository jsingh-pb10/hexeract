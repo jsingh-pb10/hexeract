{
 "cells": [
  {
   "cell_type": "code",
   "execution_count": null,
   "metadata": {},
   "outputs": [],
   "source": [
    "from kiteconnect import KiteConnect\n",
    "import logging\n",
    "kite = KiteConnect(api_key = \"api key\") \n",
    "logging.basicConfig(level=logging.DEBUG)\n",
    "kite.login_url()"
   ]
  },
  {
   "cell_type": "code",
   "execution_count": null,
   "metadata": {},
   "outputs": [],
   "source": [
    "data = kite.generate_session(\"session key\", api_secret=\"secret key\")\n",
    "kite.set_access_token(data[\"access_token\"])\n",
    "token = data[\"access_token\"]"
   ]
  },
  {
   "cell_type": "code",
   "execution_count": null,
   "metadata": {},
   "outputs": [],
   "source": [
    "def instrumentLookup(symbol):\n",
    "    instrument_dump = kite.instruments(\"NSE\")\n",
    "    instrument_df = pd.DataFrame(instrument_dump)\n",
    "    \"\"\"Looks up instrument token for a given script from instrument dump\"\"\"\n",
    "    try:\n",
    "        return instrument_df[instrument_df.tradingsymbol==symbol].instrument_token.values[0]\n",
    "    except:\n",
    "        return -1"
   ]
  },
  {
   "cell_type": "code",
   "execution_count": null,
   "metadata": {},
   "outputs": [],
   "source": [
    "import pandas as pd\n",
    "df = pd.read_csv('nifty50.csv')\n",
    "df.head()\n",
    "symbolist = []\n",
    "for sym in df.Symbol:\n",
    "    symbolist.append(sym)"
   ]
  },
  {
   "cell_type": "code",
   "execution_count": null,
   "metadata": {},
   "outputs": [],
   "source": [
    "symbolist = sorted(symbolist)\n",
    "token_list = [] \n",
    "for symbol in symbolist:\n",
    "    token_list.append(instrumentLookup(symbol))"
   ]
  },
  {
   "cell_type": "code",
   "execution_count": null,
   "metadata": {},
   "outputs": [],
   "source": [
    "tablelist = []\n",
    "##### Example: The date is 16th April and you want to fetch for today###\n",
    "#### Then start date: 2021-4-16 and end date 2021-4-17\n",
    "def fetchOHLC(ticker):\n",
    "    \"\"\"extracts historical data and outputs in the form of dataframe\"\"\"\n",
    "    #instrument = instrumentLookup(instrument_df,ticker)\n",
    "    data = pd.DataFrame(kite.historical_data(ticker,'2021-08-13', '2021-08-13',\"day\"))\n",
    "    #data.set_index(\"date\")\n",
    "    return data"
   ]
  },
  {
   "cell_type": "code",
   "execution_count": null,
   "metadata": {},
   "outputs": [],
   "source": [
    "import time\n",
    "tablelist = []\n",
    "for sym,tokn in zip(symbolist,token_list):\n",
    "    print(sym,tokn)\n",
    "    tablelist.append(fetchOHLC(tokn))\n",
    "    time.sleep(0.025)"
   ]
  },
  {
   "cell_type": "code",
   "execution_count": null,
   "metadata": {},
   "outputs": [],
   "source": [
    "from sqlalchemy import create_engine\n",
    "engine_cloud_india_market = create_engine('db arress and key')"
   ]
  },
  {
   "cell_type": "code",
   "execution_count": null,
   "metadata": {},
   "outputs": [],
   "source": [
    "for i in range(len(symbolist)):\n",
    "    try:\n",
    "        tablelist[i].to_sql(symbolist[i].lower(),con = engine_cloud_india_market, if_exists = 'append')\n",
    "    except:\n",
    "        pass\n",
    "\n"
   ]
  }
 ],
 "metadata": {
  "kernelspec": {
   "display_name": "Python 3 (ipykernel)",
   "language": "python",
   "name": "python3"
  },
  "language_info": {
   "codemirror_mode": {
    "name": "ipython",
    "version": 3
   },
   "file_extension": ".py",
   "mimetype": "text/x-python",
   "name": "python",
   "nbconvert_exporter": "python",
   "pygments_lexer": "ipython3",
   "version": "3.9.7"
  }
 },
 "nbformat": 4,
 "nbformat_minor": 4
}
